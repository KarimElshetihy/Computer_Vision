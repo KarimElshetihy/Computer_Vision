{
 "cells": [
  {
   "cell_type": "markdown",
   "metadata": {},
   "source": [
    "# Facial Recognition - Capture Faces  on Video\n",
    "\n",
    "## By Karim Elshetihy"
   ]
  },
  {
   "cell_type": "markdown",
   "metadata": {},
   "source": [
    "#### References\n",
    "-\n",
    "-\n"
   ]
  },
  {
   "cell_type": "markdown",
   "metadata": {},
   "source": [
    "#### Importing Libraries"
   ]
  },
  {
   "cell_type": "code",
   "execution_count": null,
   "metadata": {},
   "outputs": [],
   "source": [
    "import face_recognition\n",
    "import os\n",
    "import cv2\n",
    "import pickle\n",
    "import time"
   ]
  },
  {
   "cell_type": "markdown",
   "metadata": {},
   "source": [
    "#### Parameters"
   ]
  },
  {
   "cell_type": "code",
   "execution_count": null,
   "metadata": {},
   "outputs": [],
   "source": [
    "TOLERANCE = 0.6\n",
    "FRAME_THICKNES = 3\n",
    "FONT_THICKNES = 2\n",
    "MODEL = 'cnn'\n",
    "\n",
    "video = cv2.VideoCapture(2) # could put in file name"
   ]
  },
  {
   "cell_type": "markdown",
   "metadata": {},
   "source": [
    "#### Directories"
   ]
  },
  {
   "cell_type": "code",
   "execution_count": null,
   "metadata": {},
   "outputs": [],
   "source": [
    "KNOWN_FACES_DIR = 'Known_Faces'\n",
    "UNKNOWN_FACES_DIR = 'Unknown_Faces'"
   ]
  },
  {
   "cell_type": "markdown",
   "metadata": {},
   "source": [
    "#### Data Lists"
   ]
  },
  {
   "cell_type": "code",
   "execution_count": null,
   "metadata": {},
   "outputs": [],
   "source": [
    "known_faces_list = []\n",
    "known_names_list = []"
   ]
  },
  {
   "cell_type": "markdown",
   "metadata": {},
   "source": [
    "____________________"
   ]
  },
  {
   "cell_type": "markdown",
   "metadata": {},
   "source": [
    "#### Capture Faces on Video Function"
   ]
  },
  {
   "cell_type": "code",
   "execution_count": null,
   "metadata": {},
   "outputs": [],
   "source": [
    "def get_faces():\n",
    "    for name in os.listdir(KNOWN_FACES_DIR):\n",
    "        for filename in os.listdir(f\"{KNOWN_FACES_DIR}/{name}\"):\n",
    "            \n",
    "            encoding = pickle.load(open(f\"{name}/{filename}\", 'rb'))\n",
    "            known_faces_list.append(encoding)\n",
    "            known_names_list.append(int(name))\n",
    "            \n",
    "    if len(known_names_list) > 0:\n",
    "        next_id = len(known_names_list) + 1\n",
    "    else:\n",
    "        next_id = 0\n",
    "\n",
    "    while True:\n",
    "        ret, image = video.read()\n",
    "        locations = face_recognition.face_locations(image, model = MODEL)\n",
    "        encoding = face_recognition.face_encodings(image, locations)\n",
    "        \n",
    "        \n",
    "        for face_encoding, face_location in zip(encodingd, locations):\n",
    "            results = face_recognition.compare_faces(known_faces, face_encodings, TOLERANCE)\n",
    "            match = None\n",
    "            \n",
    "            if True in results:\n",
    "                match = known_names[results.index(True)]\n",
    "            else:\n",
    "                match = str(next_id)\n",
    "                next_id += 1\n",
    "                \n",
    "                known_names.append(match)\n",
    "                known_faces.append(face_encoding)\n",
    "                os.mkdir(f\"{KNOWN_FACES_DIR}/{match}\")\n",
    "                pickle.dump(face_encoding, open(f\"{KNOWN_FACES_DIR}/{match}/{match}-{int(time.time())}.pkl\", 'wb'))\n",
    "                \n",
    "            top_left = (face_location[3], face_location[0])\n",
    "            bottom_right = (face_location[1], face_location[2])\n",
    "            color = [0,255,0]\n",
    "            cv2.rectangle(image, top_left, bottom_right, color, FRAME_THICKNESS)\n",
    "\n",
    "            top_left = (face_location[3], face_location[2])\n",
    "            bottom_right = (face_location[1], face_location[2]+22)\n",
    "            cv2.rectangle(image, top_left, bottom_right, color, cv2.FILLED)\n",
    "            cv2.putText(image, match, (face_location[3]+10, face_location[2]+15), \n",
    "                        cv2.FONT_HERSHEY_SIMPLEX, 0.5, (200,200,200),FONT_THICKNESS)\n",
    "                \n",
    "        cv2.imshow(filename, image)\n",
    "        if cv2.waitKey(1) & 0xFF == ord('q'):\n",
    "            break"
   ]
  },
  {
   "cell_type": "code",
   "execution_count": null,
   "metadata": {},
   "outputs": [],
   "source": []
  },
  {
   "cell_type": "code",
   "execution_count": null,
   "metadata": {},
   "outputs": [],
   "source": []
  },
  {
   "cell_type": "code",
   "execution_count": null,
   "metadata": {},
   "outputs": [],
   "source": []
  },
  {
   "cell_type": "code",
   "execution_count": null,
   "metadata": {},
   "outputs": [],
   "source": []
  },
  {
   "cell_type": "code",
   "execution_count": null,
   "metadata": {},
   "outputs": [],
   "source": []
  },
  {
   "cell_type": "code",
   "execution_count": null,
   "metadata": {},
   "outputs": [],
   "source": []
  },
  {
   "cell_type": "code",
   "execution_count": null,
   "metadata": {},
   "outputs": [],
   "source": []
  }
 ],
 "metadata": {
  "kernelspec": {
   "display_name": "Python 3",
   "language": "python",
   "name": "python3"
  },
  "language_info": {
   "codemirror_mode": {
    "name": "ipython",
    "version": 3
   },
   "file_extension": ".py",
   "mimetype": "text/x-python",
   "name": "python",
   "nbconvert_exporter": "python",
   "pygments_lexer": "ipython3",
   "version": "3.8.5"
  }
 },
 "nbformat": 4,
 "nbformat_minor": 4
}
